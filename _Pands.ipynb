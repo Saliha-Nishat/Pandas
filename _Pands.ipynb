{
 "cells": [
  {
   "cell_type": "markdown",
   "id": "291aab53-a2de-4104-aabb-283acfd63343",
   "metadata": {},
   "source": [
    "# Pandas & Numpy"
   ]
  },
  {
   "cell_type": "code",
   "execution_count": 1,
   "id": "c2c3bf43-eb12-44f0-9df6-e82197de849e",
   "metadata": {},
   "outputs": [],
   "source": [
    "import pandas as pd\n",
    "import numpy as np"
   ]
  },
  {
   "cell_type": "markdown",
   "id": "3a5b6109-2750-4211-8f19-60ccc42e98bf",
   "metadata": {},
   "source": [
    "# DataFrame"
   ]
  },
  {
   "cell_type": "code",
   "execution_count": 2,
   "id": "7947924d-e94a-4b2d-932b-3ba8f2ca0188",
   "metadata": {},
   "outputs": [],
   "source": [
    "Dict={\n",
    "    \"Name\":['Ella Khan', 'Lilly' ,'Milli','Alisha','Danish'],\n",
    "    \"City\":['Arizona','Etovok','Menchester','Delhi','Islamabad'],\n",
    "    \"Marks\":['880','990','789','560','1000'],\n",
    "    \"DoB\":['2006','2005','2006','2005','2006'],\n",
    "  \"Contact\":[\"03434567432\",\"03434567430\",\"03430567432\",\"03034567432\",\"03422567332\"]\n",
    "}"
   ]
  },
  {
   "cell_type": "code",
   "execution_count": 5,
   "id": "f61e5d2e-db38-4288-9689-9e21deb4cdd9",
   "metadata": {},
   "outputs": [],
   "source": [
    "df=pd.DataFrame(Dict)"
   ]
  },
  {
   "cell_type": "code",
   "execution_count": 7,
   "id": "c6efb5b8-a11f-4c00-998c-504667ba77c6",
   "metadata": {},
   "outputs": [
    {
     "data": {
      "text/html": [
       "<div>\n",
       "<style scoped>\n",
       "    .dataframe tbody tr th:only-of-type {\n",
       "        vertical-align: middle;\n",
       "    }\n",
       "\n",
       "    .dataframe tbody tr th {\n",
       "        vertical-align: top;\n",
       "    }\n",
       "\n",
       "    .dataframe thead th {\n",
       "        text-align: right;\n",
       "    }\n",
       "</style>\n",
       "<table border=\"1\" class=\"dataframe\">\n",
       "  <thead>\n",
       "    <tr style=\"text-align: right;\">\n",
       "      <th></th>\n",
       "      <th>Name</th>\n",
       "      <th>City</th>\n",
       "      <th>Marks</th>\n",
       "      <th>DoB</th>\n",
       "      <th>Contact</th>\n",
       "    </tr>\n",
       "  </thead>\n",
       "  <tbody>\n",
       "    <tr>\n",
       "      <th>0</th>\n",
       "      <td>Ella Khan</td>\n",
       "      <td>Arizona</td>\n",
       "      <td>880</td>\n",
       "      <td>2006</td>\n",
       "      <td>03434567432</td>\n",
       "    </tr>\n",
       "    <tr>\n",
       "      <th>1</th>\n",
       "      <td>Lilly</td>\n",
       "      <td>Etovok</td>\n",
       "      <td>990</td>\n",
       "      <td>2005</td>\n",
       "      <td>03434567430</td>\n",
       "    </tr>\n",
       "    <tr>\n",
       "      <th>2</th>\n",
       "      <td>Milli</td>\n",
       "      <td>Menchester</td>\n",
       "      <td>789</td>\n",
       "      <td>2006</td>\n",
       "      <td>03430567432</td>\n",
       "    </tr>\n",
       "    <tr>\n",
       "      <th>3</th>\n",
       "      <td>Alisha</td>\n",
       "      <td>Delhi</td>\n",
       "      <td>560</td>\n",
       "      <td>2005</td>\n",
       "      <td>03034567432</td>\n",
       "    </tr>\n",
       "    <tr>\n",
       "      <th>4</th>\n",
       "      <td>Danish</td>\n",
       "      <td>Islamabad</td>\n",
       "      <td>1000</td>\n",
       "      <td>2006</td>\n",
       "      <td>03422567332</td>\n",
       "    </tr>\n",
       "  </tbody>\n",
       "</table>\n",
       "</div>"
      ],
      "text/plain": [
       "        Name        City Marks   DoB      Contact\n",
       "0  Ella Khan     Arizona   880  2006  03434567432\n",
       "1      Lilly      Etovok   990  2005  03434567430\n",
       "2      Milli  Menchester   789  2006  03430567432\n",
       "3     Alisha       Delhi   560  2005  03034567432\n",
       "4     Danish   Islamabad  1000  2006  03422567332"
      ]
     },
     "execution_count": 7,
     "metadata": {},
     "output_type": "execute_result"
    }
   ],
   "source": [
    "df\n"
   ]
  },
  {
   "cell_type": "code",
   "execution_count": 9,
   "id": "739e0c08-7d15-49ee-976e-87b262f04147",
   "metadata": {},
   "outputs": [],
   "source": [
    "#df.to_csv('friends.csv')"
   ]
  },
  {
   "cell_type": "code",
   "execution_count": 11,
   "id": "903bfe58-9eb8-4313-a6d6-93315dbcd0f8",
   "metadata": {},
   "outputs": [],
   "source": [
    "df.to_excel('Std.xlsx')"
   ]
  },
  {
   "cell_type": "code",
   "execution_count": 12,
   "id": "6eb96049-3e37-4bcf-89a4-b292277c55c4",
   "metadata": {},
   "outputs": [],
   "source": [
    "df.to_excel(\"Std_index_false.xlsx\",index=False)"
   ]
  },
  {
   "cell_type": "code",
   "execution_count": 13,
   "id": "e15477c3-7cf4-4506-9ff3-76ac7511c155",
   "metadata": {},
   "outputs": [
    {
     "data": {
      "text/html": [
       "<div>\n",
       "<style scoped>\n",
       "    .dataframe tbody tr th:only-of-type {\n",
       "        vertical-align: middle;\n",
       "    }\n",
       "\n",
       "    .dataframe tbody tr th {\n",
       "        vertical-align: top;\n",
       "    }\n",
       "\n",
       "    .dataframe thead th {\n",
       "        text-align: right;\n",
       "    }\n",
       "</style>\n",
       "<table border=\"1\" class=\"dataframe\">\n",
       "  <thead>\n",
       "    <tr style=\"text-align: right;\">\n",
       "      <th></th>\n",
       "      <th>Name</th>\n",
       "      <th>City</th>\n",
       "      <th>Marks</th>\n",
       "      <th>DoB</th>\n",
       "      <th>Contact</th>\n",
       "    </tr>\n",
       "  </thead>\n",
       "  <tbody>\n",
       "    <tr>\n",
       "      <th>0</th>\n",
       "      <td>Ella Khan</td>\n",
       "      <td>Arizona</td>\n",
       "      <td>880</td>\n",
       "      <td>2006</td>\n",
       "      <td>03434567432</td>\n",
       "    </tr>\n",
       "    <tr>\n",
       "      <th>1</th>\n",
       "      <td>Lilly</td>\n",
       "      <td>Etovok</td>\n",
       "      <td>990</td>\n",
       "      <td>2005</td>\n",
       "      <td>03434567430</td>\n",
       "    </tr>\n",
       "    <tr>\n",
       "      <th>2</th>\n",
       "      <td>Milli</td>\n",
       "      <td>Menchester</td>\n",
       "      <td>789</td>\n",
       "      <td>2006</td>\n",
       "      <td>03430567432</td>\n",
       "    </tr>\n",
       "    <tr>\n",
       "      <th>3</th>\n",
       "      <td>Alisha</td>\n",
       "      <td>Delhi</td>\n",
       "      <td>560</td>\n",
       "      <td>2005</td>\n",
       "      <td>03034567432</td>\n",
       "    </tr>\n",
       "    <tr>\n",
       "      <th>4</th>\n",
       "      <td>Danish</td>\n",
       "      <td>Islamabad</td>\n",
       "      <td>1000</td>\n",
       "      <td>2006</td>\n",
       "      <td>03422567332</td>\n",
       "    </tr>\n",
       "  </tbody>\n",
       "</table>\n",
       "</div>"
      ],
      "text/plain": [
       "        Name        City Marks   DoB      Contact\n",
       "0  Ella Khan     Arizona   880  2006  03434567432\n",
       "1      Lilly      Etovok   990  2005  03434567430\n",
       "2      Milli  Menchester   789  2006  03430567432\n",
       "3     Alisha       Delhi   560  2005  03034567432\n",
       "4     Danish   Islamabad  1000  2006  03422567332"
      ]
     },
     "execution_count": 13,
     "metadata": {},
     "output_type": "execute_result"
    }
   ],
   "source": [
    "df"
   ]
  },
  {
   "cell_type": "code",
   "execution_count": 15,
   "id": "e7f2483d-097e-46a7-88ee-90f1b02b46a6",
   "metadata": {},
   "outputs": [
    {
     "data": {
      "text/html": [
       "<div>\n",
       "<style scoped>\n",
       "    .dataframe tbody tr th:only-of-type {\n",
       "        vertical-align: middle;\n",
       "    }\n",
       "\n",
       "    .dataframe tbody tr th {\n",
       "        vertical-align: top;\n",
       "    }\n",
       "\n",
       "    .dataframe thead th {\n",
       "        text-align: right;\n",
       "    }\n",
       "</style>\n",
       "<table border=\"1\" class=\"dataframe\">\n",
       "  <thead>\n",
       "    <tr style=\"text-align: right;\">\n",
       "      <th></th>\n",
       "      <th>Name</th>\n",
       "      <th>City</th>\n",
       "      <th>Marks</th>\n",
       "      <th>DoB</th>\n",
       "      <th>Contact</th>\n",
       "    </tr>\n",
       "  </thead>\n",
       "  <tbody>\n",
       "    <tr>\n",
       "      <th>0</th>\n",
       "      <td>Ella Khan</td>\n",
       "      <td>Arizona</td>\n",
       "      <td>880</td>\n",
       "      <td>2006</td>\n",
       "      <td>03434567432</td>\n",
       "    </tr>\n",
       "    <tr>\n",
       "      <th>1</th>\n",
       "      <td>Lilly</td>\n",
       "      <td>Etovok</td>\n",
       "      <td>990</td>\n",
       "      <td>2005</td>\n",
       "      <td>03434567430</td>\n",
       "    </tr>\n",
       "    <tr>\n",
       "      <th>2</th>\n",
       "      <td>Milli</td>\n",
       "      <td>Menchester</td>\n",
       "      <td>789</td>\n",
       "      <td>2006</td>\n",
       "      <td>03430567432</td>\n",
       "    </tr>\n",
       "    <tr>\n",
       "      <th>3</th>\n",
       "      <td>Alisha</td>\n",
       "      <td>Delhi</td>\n",
       "      <td>560</td>\n",
       "      <td>2005</td>\n",
       "      <td>03034567432</td>\n",
       "    </tr>\n",
       "    <tr>\n",
       "      <th>4</th>\n",
       "      <td>Danish</td>\n",
       "      <td>Islamabad</td>\n",
       "      <td>1000</td>\n",
       "      <td>2006</td>\n",
       "      <td>03422567332</td>\n",
       "    </tr>\n",
       "  </tbody>\n",
       "</table>\n",
       "</div>"
      ],
      "text/plain": [
       "        Name        City Marks   DoB      Contact\n",
       "0  Ella Khan     Arizona   880  2006  03434567432\n",
       "1      Lilly      Etovok   990  2005  03434567430\n",
       "2      Milli  Menchester   789  2006  03430567432\n",
       "3     Alisha       Delhi   560  2005  03034567432\n",
       "4     Danish   Islamabad  1000  2006  03422567332"
      ]
     },
     "execution_count": 15,
     "metadata": {},
     "output_type": "execute_result"
    }
   ],
   "source": [
    "df.head()"
   ]
  },
  {
   "cell_type": "code",
   "execution_count": 19,
   "id": "bad3b134-4fb6-45fa-a97d-ee12a99daaa5",
   "metadata": {},
   "outputs": [
    {
     "data": {
      "text/html": [
       "<div>\n",
       "<style scoped>\n",
       "    .dataframe tbody tr th:only-of-type {\n",
       "        vertical-align: middle;\n",
       "    }\n",
       "\n",
       "    .dataframe tbody tr th {\n",
       "        vertical-align: top;\n",
       "    }\n",
       "\n",
       "    .dataframe thead th {\n",
       "        text-align: right;\n",
       "    }\n",
       "</style>\n",
       "<table border=\"1\" class=\"dataframe\">\n",
       "  <thead>\n",
       "    <tr style=\"text-align: right;\">\n",
       "      <th></th>\n",
       "      <th>Name</th>\n",
       "      <th>City</th>\n",
       "      <th>Marks</th>\n",
       "      <th>DoB</th>\n",
       "      <th>Contact</th>\n",
       "    </tr>\n",
       "  </thead>\n",
       "  <tbody>\n",
       "    <tr>\n",
       "      <th>3</th>\n",
       "      <td>Alisha</td>\n",
       "      <td>Delhi</td>\n",
       "      <td>560</td>\n",
       "      <td>2005</td>\n",
       "      <td>03034567432</td>\n",
       "    </tr>\n",
       "    <tr>\n",
       "      <th>4</th>\n",
       "      <td>Danish</td>\n",
       "      <td>Islamabad</td>\n",
       "      <td>1000</td>\n",
       "      <td>2006</td>\n",
       "      <td>03422567332</td>\n",
       "    </tr>\n",
       "  </tbody>\n",
       "</table>\n",
       "</div>"
      ],
      "text/plain": [
       "     Name       City Marks   DoB      Contact\n",
       "3  Alisha      Delhi   560  2005  03034567432\n",
       "4  Danish  Islamabad  1000  2006  03422567332"
      ]
     },
     "execution_count": 19,
     "metadata": {},
     "output_type": "execute_result"
    }
   ],
   "source": [
    "df.tail(2)"
   ]
  },
  {
   "cell_type": "code",
   "execution_count": 21,
   "id": "c93401aa-883a-4645-8acc-f9a7dc720af5",
   "metadata": {},
   "outputs": [
    {
     "data": {
      "text/html": [
       "<div>\n",
       "<style scoped>\n",
       "    .dataframe tbody tr th:only-of-type {\n",
       "        vertical-align: middle;\n",
       "    }\n",
       "\n",
       "    .dataframe tbody tr th {\n",
       "        vertical-align: top;\n",
       "    }\n",
       "\n",
       "    .dataframe thead th {\n",
       "        text-align: right;\n",
       "    }\n",
       "</style>\n",
       "<table border=\"1\" class=\"dataframe\">\n",
       "  <thead>\n",
       "    <tr style=\"text-align: right;\">\n",
       "      <th></th>\n",
       "      <th>Name</th>\n",
       "      <th>City</th>\n",
       "      <th>Marks</th>\n",
       "      <th>DoB</th>\n",
       "      <th>Contact</th>\n",
       "    </tr>\n",
       "  </thead>\n",
       "  <tbody>\n",
       "    <tr>\n",
       "      <th>count</th>\n",
       "      <td>5</td>\n",
       "      <td>5</td>\n",
       "      <td>5</td>\n",
       "      <td>5</td>\n",
       "      <td>5</td>\n",
       "    </tr>\n",
       "    <tr>\n",
       "      <th>unique</th>\n",
       "      <td>5</td>\n",
       "      <td>5</td>\n",
       "      <td>5</td>\n",
       "      <td>2</td>\n",
       "      <td>5</td>\n",
       "    </tr>\n",
       "    <tr>\n",
       "      <th>top</th>\n",
       "      <td>Ella Khan</td>\n",
       "      <td>Arizona</td>\n",
       "      <td>880</td>\n",
       "      <td>2006</td>\n",
       "      <td>03434567432</td>\n",
       "    </tr>\n",
       "    <tr>\n",
       "      <th>freq</th>\n",
       "      <td>1</td>\n",
       "      <td>1</td>\n",
       "      <td>1</td>\n",
       "      <td>3</td>\n",
       "      <td>1</td>\n",
       "    </tr>\n",
       "  </tbody>\n",
       "</table>\n",
       "</div>"
      ],
      "text/plain": [
       "             Name     City Marks   DoB      Contact\n",
       "count           5        5     5     5            5\n",
       "unique          5        5     5     2            5\n",
       "top     Ella Khan  Arizona   880  2006  03434567432\n",
       "freq            1        1     1     3            1"
      ]
     },
     "execution_count": 21,
     "metadata": {},
     "output_type": "execute_result"
    }
   ],
   "source": [
    "df.describe()"
   ]
  },
  {
   "cell_type": "code",
   "execution_count": 23,
   "id": "a901dd87-4951-411e-a412-0fd7304c62c0",
   "metadata": {},
   "outputs": [
    {
     "data": {
      "text/plain": [
       "(5, 5)"
      ]
     },
     "execution_count": 23,
     "metadata": {},
     "output_type": "execute_result"
    }
   ],
   "source": [
    "df.shape"
   ]
  },
  {
   "cell_type": "code",
   "execution_count": 25,
   "id": "4afb538f-35b7-4aa5-9f3b-81e20996209e",
   "metadata": {},
   "outputs": [
    {
     "data": {
      "text/plain": [
       "<bound method NDFrame.describe of         Name        City Marks   DoB      Contact\n",
       "0  Ella Khan     Arizona   880  2006  03434567432\n",
       "1      Lilly      Etovok   990  2005  03434567430\n",
       "2      Milli  Menchester   789  2006  03430567432\n",
       "3     Alisha       Delhi   560  2005  03034567432\n",
       "4     Danish   Islamabad  1000  2006  03422567332>"
      ]
     },
     "execution_count": 25,
     "metadata": {},
     "output_type": "execute_result"
    }
   ],
   "source": [
    "df.describe\n"
   ]
  },
  {
   "cell_type": "markdown",
   "id": "686edc3f-fc9c-475e-b3a5-4b6f47c3f0aa",
   "metadata": {},
   "source": [
    " # reading the excel file using pandas function"
   ]
  },
  {
   "cell_type": "code",
   "execution_count": 31,
   "id": "fa5e70a5-60f0-488a-9381-91c480d470cf",
   "metadata": {},
   "outputs": [],
   "source": [
    "student=pd.read_excel('Pandas/Std_data.xlsx')"
   ]
  },
  {
   "cell_type": "code",
   "execution_count": 33,
   "id": "d58117a4-c02f-45ac-bb6f-efdc6aefbcc6",
   "metadata": {},
   "outputs": [
    {
     "data": {
      "text/html": [
       "<div>\n",
       "<style scoped>\n",
       "    .dataframe tbody tr th:only-of-type {\n",
       "        vertical-align: middle;\n",
       "    }\n",
       "\n",
       "    .dataframe tbody tr th {\n",
       "        vertical-align: top;\n",
       "    }\n",
       "\n",
       "    .dataframe thead th {\n",
       "        text-align: right;\n",
       "    }\n",
       "</style>\n",
       "<table border=\"1\" class=\"dataframe\">\n",
       "  <thead>\n",
       "    <tr style=\"text-align: right;\">\n",
       "      <th></th>\n",
       "      <th>name</th>\n",
       "      <th>sub</th>\n",
       "      <th>DoB</th>\n",
       "      <th>Class</th>\n",
       "      <th>T.Marks</th>\n",
       "      <th>Obt.Marks</th>\n",
       "    </tr>\n",
       "  </thead>\n",
       "  <tbody>\n",
       "    <tr>\n",
       "      <th>0</th>\n",
       "      <td>ali</td>\n",
       "      <td>CS</td>\n",
       "      <td>2003</td>\n",
       "      <td>10</td>\n",
       "      <td>550</td>\n",
       "      <td>300</td>\n",
       "    </tr>\n",
       "    <tr>\n",
       "      <th>1</th>\n",
       "      <td>seena</td>\n",
       "      <td>SE</td>\n",
       "      <td>2003</td>\n",
       "      <td>10</td>\n",
       "      <td>550</td>\n",
       "      <td>350</td>\n",
       "    </tr>\n",
       "    <tr>\n",
       "      <th>2</th>\n",
       "      <td>bero</td>\n",
       "      <td>IT</td>\n",
       "      <td>2002</td>\n",
       "      <td>10</td>\n",
       "      <td>550</td>\n",
       "      <td>400</td>\n",
       "    </tr>\n",
       "    <tr>\n",
       "      <th>3</th>\n",
       "      <td>lisa</td>\n",
       "      <td>CS</td>\n",
       "      <td>2002</td>\n",
       "      <td>10</td>\n",
       "      <td>550</td>\n",
       "      <td>399</td>\n",
       "    </tr>\n",
       "    <tr>\n",
       "      <th>4</th>\n",
       "      <td>nila</td>\n",
       "      <td>SE</td>\n",
       "      <td>2003</td>\n",
       "      <td>10</td>\n",
       "      <td>550</td>\n",
       "      <td>450</td>\n",
       "    </tr>\n",
       "  </tbody>\n",
       "</table>\n",
       "</div>"
      ],
      "text/plain": [
       "    name sub   DoB  Class  T.Marks  Obt.Marks\n",
       "0    ali  CS  2003     10      550        300\n",
       "1  seena  SE  2003     10      550        350\n",
       "2   bero  IT  2002     10      550        400\n",
       "3   lisa  CS  2002     10      550        399\n",
       "4   nila  SE  2003     10      550        450"
      ]
     },
     "execution_count": 33,
     "metadata": {},
     "output_type": "execute_result"
    }
   ],
   "source": [
    "student"
   ]
  },
  {
   "cell_type": "code",
   "execution_count": 39,
   "id": "7bebb414-acd8-44de-b52e-642f5ea8b61e",
   "metadata": {},
   "outputs": [
    {
     "data": {
      "text/plain": [
       "0    2003\n",
       "1    2003\n",
       "2    2002\n",
       "3    2002\n",
       "4    2003\n",
       "Name: DoB, dtype: int64"
      ]
     },
     "execution_count": 39,
     "metadata": {},
     "output_type": "execute_result"
    }
   ],
   "source": [
    "student['DoB']"
   ]
  },
  {
   "cell_type": "code",
   "execution_count": 49,
   "id": "de15bc76-4700-4dcc-a095-73be5df2c153",
   "metadata": {},
   "outputs": [
    {
     "data": {
      "text/plain": [
       "'ali'"
      ]
     },
     "execution_count": 49,
     "metadata": {},
     "output_type": "execute_result"
    }
   ],
   "source": [
    "student['name'][0] # checking value at index 0"
   ]
  },
  {
   "cell_type": "code",
   "execution_count": 53,
   "id": "a0d9c92f-f202-48f5-aefe-440b5c8c3388",
   "metadata": {},
   "outputs": [
    {
     "name": "stderr",
     "output_type": "stream",
     "text": [
      "C:\\Users\\eukha\\AppData\\Local\\Temp\\ipykernel_12644\\2531787687.py:1: SettingWithCopyWarning: \n",
      "A value is trying to be set on a copy of a slice from a DataFrame\n",
      "\n",
      "See the caveats in the documentation: https://pandas.pydata.org/pandas-docs/stable/user_guide/indexing.html#returning-a-view-versus-a-copy\n",
      "  student['DoB'][3]= 2003\n"
     ]
    }
   ],
   "source": [
    "student['DoB'][3]= 2003 # value changed at index 3"
   ]
  },
  {
   "cell_type": "code",
   "execution_count": 55,
   "id": "d1fc628f-173f-4b9c-998e-2d112f87101a",
   "metadata": {},
   "outputs": [
    {
     "data": {
      "text/html": [
       "<div>\n",
       "<style scoped>\n",
       "    .dataframe tbody tr th:only-of-type {\n",
       "        vertical-align: middle;\n",
       "    }\n",
       "\n",
       "    .dataframe tbody tr th {\n",
       "        vertical-align: top;\n",
       "    }\n",
       "\n",
       "    .dataframe thead th {\n",
       "        text-align: right;\n",
       "    }\n",
       "</style>\n",
       "<table border=\"1\" class=\"dataframe\">\n",
       "  <thead>\n",
       "    <tr style=\"text-align: right;\">\n",
       "      <th></th>\n",
       "      <th>name</th>\n",
       "      <th>sub</th>\n",
       "      <th>DoB</th>\n",
       "      <th>Class</th>\n",
       "      <th>T.Marks</th>\n",
       "      <th>Obt.Marks</th>\n",
       "    </tr>\n",
       "  </thead>\n",
       "  <tbody>\n",
       "    <tr>\n",
       "      <th>0</th>\n",
       "      <td>ali</td>\n",
       "      <td>CS</td>\n",
       "      <td>2003</td>\n",
       "      <td>10</td>\n",
       "      <td>550</td>\n",
       "      <td>300</td>\n",
       "    </tr>\n",
       "    <tr>\n",
       "      <th>1</th>\n",
       "      <td>seena</td>\n",
       "      <td>SE</td>\n",
       "      <td>2003</td>\n",
       "      <td>10</td>\n",
       "      <td>550</td>\n",
       "      <td>350</td>\n",
       "    </tr>\n",
       "    <tr>\n",
       "      <th>2</th>\n",
       "      <td>bero</td>\n",
       "      <td>IT</td>\n",
       "      <td>2002</td>\n",
       "      <td>10</td>\n",
       "      <td>550</td>\n",
       "      <td>400</td>\n",
       "    </tr>\n",
       "    <tr>\n",
       "      <th>3</th>\n",
       "      <td>lisa</td>\n",
       "      <td>CS</td>\n",
       "      <td>2003</td>\n",
       "      <td>10</td>\n",
       "      <td>550</td>\n",
       "      <td>399</td>\n",
       "    </tr>\n",
       "    <tr>\n",
       "      <th>4</th>\n",
       "      <td>nila</td>\n",
       "      <td>SE</td>\n",
       "      <td>2003</td>\n",
       "      <td>10</td>\n",
       "      <td>550</td>\n",
       "      <td>450</td>\n",
       "    </tr>\n",
       "  </tbody>\n",
       "</table>\n",
       "</div>"
      ],
      "text/plain": [
       "    name sub   DoB  Class  T.Marks  Obt.Marks\n",
       "0    ali  CS  2003     10      550        300\n",
       "1  seena  SE  2003     10      550        350\n",
       "2   bero  IT  2002     10      550        400\n",
       "3   lisa  CS  2003     10      550        399\n",
       "4   nila  SE  2003     10      550        450"
      ]
     },
     "execution_count": 55,
     "metadata": {},
     "output_type": "execute_result"
    }
   ],
   "source": [
    "student"
   ]
  },
  {
   "cell_type": "code",
   "execution_count": 57,
   "id": "01ab55dc-0c02-4ebd-af3f-a1e4c2ce8311",
   "metadata": {},
   "outputs": [],
   "source": [
    "student =df.to_excel('Std-data.xlsx')"
   ]
  },
  {
   "cell_type": "markdown",
   "id": "bf257b2f-e79e-42f3-bbcd-676b39121569",
   "metadata": {},
   "source": [
    "# Series"
   ]
  },
  {
   "cell_type": "code",
   "execution_count": 59,
   "id": "7c093da2-4111-4fab-8c01-86cb18472225",
   "metadata": {},
   "outputs": [],
   "source": [
    "ser=pd.Series(np.random.rand(34))"
   ]
  },
  {
   "cell_type": "code",
   "execution_count": 61,
   "id": "194dac04-260a-43b5-bbf5-b788a52ad819",
   "metadata": {},
   "outputs": [
    {
     "data": {
      "text/plain": [
       "0     0.072727\n",
       "1     0.997310\n",
       "2     0.856650\n",
       "3     0.894853\n",
       "4     0.033121\n",
       "5     0.468057\n",
       "6     0.265289\n",
       "7     0.270506\n",
       "8     0.026502\n",
       "9     0.269947\n",
       "10    0.689245\n",
       "11    0.620819\n",
       "12    0.616939\n",
       "13    0.912630\n",
       "14    0.386432\n",
       "15    0.703797\n",
       "16    0.808374\n",
       "17    0.435522\n",
       "18    0.603087\n",
       "19    0.112091\n",
       "20    0.224586\n",
       "21    0.394871\n",
       "22    0.428369\n",
       "23    0.987605\n",
       "24    0.809443\n",
       "25    0.279993\n",
       "26    0.167891\n",
       "27    0.222306\n",
       "28    0.971524\n",
       "29    0.097602\n",
       "30    0.100671\n",
       "31    0.327087\n",
       "32    0.115756\n",
       "33    0.423166\n",
       "dtype: float64"
      ]
     },
     "execution_count": 61,
     "metadata": {},
     "output_type": "execute_result"
    }
   ],
   "source": [
    "ser"
   ]
  },
  {
   "cell_type": "code",
   "execution_count": 65,
   "id": "d09dbac3-8182-4c76-a63a-7d15ff07adbe",
   "metadata": {},
   "outputs": [
    {
     "data": {
      "text/plain": [
       "pandas.core.series.Series"
      ]
     },
     "execution_count": 65,
     "metadata": {},
     "output_type": "execute_result"
    }
   ],
   "source": [
    "type(ser)"
   ]
  },
  {
   "cell_type": "code",
   "execution_count": 79,
   "id": "1f8fbb0b-9f0b-4b20-8ccf-2277efcd04e4",
   "metadata": {},
   "outputs": [],
   "source": [
    "newdf=pd.DataFrame(np.random.rand(334,5), index =np.arange(334))"
   ]
  },
  {
   "cell_type": "code",
   "execution_count": 94,
   "id": "4be8e938-5cb8-4771-a016-255674b6dace",
   "metadata": {},
   "outputs": [
    {
     "data": {
      "text/html": [
       "<div>\n",
       "<style scoped>\n",
       "    .dataframe tbody tr th:only-of-type {\n",
       "        vertical-align: middle;\n",
       "    }\n",
       "\n",
       "    .dataframe tbody tr th {\n",
       "        vertical-align: top;\n",
       "    }\n",
       "\n",
       "    .dataframe thead th {\n",
       "        text-align: right;\n",
       "    }\n",
       "</style>\n",
       "<table border=\"1\" class=\"dataframe\">\n",
       "  <thead>\n",
       "    <tr style=\"text-align: right;\">\n",
       "      <th></th>\n",
       "      <th>0</th>\n",
       "      <th>1</th>\n",
       "      <th>2</th>\n",
       "      <th>3</th>\n",
       "      <th>4</th>\n",
       "    </tr>\n",
       "  </thead>\n",
       "  <tbody>\n",
       "    <tr>\n",
       "      <th>0</th>\n",
       "      <td>0.254653</td>\n",
       "      <td>0.052572</td>\n",
       "      <td>0.691347</td>\n",
       "      <td>0.003918</td>\n",
       "      <td>0.030833</td>\n",
       "    </tr>\n",
       "    <tr>\n",
       "      <th>1</th>\n",
       "      <td>0.350978</td>\n",
       "      <td>0.958463</td>\n",
       "      <td>0.834228</td>\n",
       "      <td>0.688915</td>\n",
       "      <td>0.991380</td>\n",
       "    </tr>\n",
       "    <tr>\n",
       "      <th>2</th>\n",
       "      <td>0.732830</td>\n",
       "      <td>0.044039</td>\n",
       "      <td>0.381209</td>\n",
       "      <td>0.686972</td>\n",
       "      <td>0.151180</td>\n",
       "    </tr>\n",
       "    <tr>\n",
       "      <th>3</th>\n",
       "      <td>0.864510</td>\n",
       "      <td>0.503403</td>\n",
       "      <td>0.728913</td>\n",
       "      <td>0.942246</td>\n",
       "      <td>0.410693</td>\n",
       "    </tr>\n",
       "    <tr>\n",
       "      <th>4</th>\n",
       "      <td>0.516408</td>\n",
       "      <td>0.352756</td>\n",
       "      <td>0.462173</td>\n",
       "      <td>0.922990</td>\n",
       "      <td>0.758476</td>\n",
       "    </tr>\n",
       "  </tbody>\n",
       "</table>\n",
       "</div>"
      ],
      "text/plain": [
       "          0         1         2         3         4\n",
       "0  0.254653  0.052572  0.691347  0.003918  0.030833\n",
       "1  0.350978  0.958463  0.834228  0.688915  0.991380\n",
       "2  0.732830  0.044039  0.381209  0.686972  0.151180\n",
       "3  0.864510  0.503403  0.728913  0.942246  0.410693\n",
       "4  0.516408  0.352756  0.462173  0.922990  0.758476"
      ]
     },
     "execution_count": 94,
     "metadata": {},
     "output_type": "execute_result"
    }
   ],
   "source": [
    "newdf.head()"
   ]
  },
  {
   "cell_type": "code",
   "execution_count": 83,
   "id": "8df8fd0c-f80d-43a9-9652-9883d35f4857",
   "metadata": {},
   "outputs": [
    {
     "data": {
      "text/plain": [
       "pandas.core.frame.DataFrame"
      ]
     },
     "execution_count": 83,
     "metadata": {},
     "output_type": "execute_result"
    }
   ],
   "source": [
    "type(newdf)"
   ]
  },
  {
   "cell_type": "code",
   "execution_count": null,
   "id": "b337d4f9-be50-4401-8034-5f3a44d068c5",
   "metadata": {},
   "outputs": [],
   "source": []
  },
  {
   "cell_type": "code",
   "execution_count": 86,
   "id": "5b70e963-f415-4b58-a690-3a0108b0271b",
   "metadata": {},
   "outputs": [
    {
     "data": {
      "text/html": [
       "<div>\n",
       "<style scoped>\n",
       "    .dataframe tbody tr th:only-of-type {\n",
       "        vertical-align: middle;\n",
       "    }\n",
       "\n",
       "    .dataframe tbody tr th {\n",
       "        vertical-align: top;\n",
       "    }\n",
       "\n",
       "    .dataframe thead th {\n",
       "        text-align: right;\n",
       "    }\n",
       "</style>\n",
       "<table border=\"1\" class=\"dataframe\">\n",
       "  <thead>\n",
       "    <tr style=\"text-align: right;\">\n",
       "      <th></th>\n",
       "      <th>0</th>\n",
       "      <th>1</th>\n",
       "      <th>2</th>\n",
       "      <th>3</th>\n",
       "      <th>4</th>\n",
       "    </tr>\n",
       "  </thead>\n",
       "  <tbody>\n",
       "    <tr>\n",
       "      <th>count</th>\n",
       "      <td>334.000000</td>\n",
       "      <td>334.000000</td>\n",
       "      <td>334.000000</td>\n",
       "      <td>334.000000</td>\n",
       "      <td>334.000000</td>\n",
       "    </tr>\n",
       "    <tr>\n",
       "      <th>mean</th>\n",
       "      <td>0.496570</td>\n",
       "      <td>0.496964</td>\n",
       "      <td>0.495962</td>\n",
       "      <td>0.495849</td>\n",
       "      <td>0.484372</td>\n",
       "    </tr>\n",
       "    <tr>\n",
       "      <th>std</th>\n",
       "      <td>0.292235</td>\n",
       "      <td>0.290391</td>\n",
       "      <td>0.285128</td>\n",
       "      <td>0.295386</td>\n",
       "      <td>0.279248</td>\n",
       "    </tr>\n",
       "    <tr>\n",
       "      <th>min</th>\n",
       "      <td>0.003045</td>\n",
       "      <td>0.003295</td>\n",
       "      <td>0.006411</td>\n",
       "      <td>0.000382</td>\n",
       "      <td>0.003107</td>\n",
       "    </tr>\n",
       "    <tr>\n",
       "      <th>25%</th>\n",
       "      <td>0.240367</td>\n",
       "      <td>0.230747</td>\n",
       "      <td>0.239415</td>\n",
       "      <td>0.244604</td>\n",
       "      <td>0.257107</td>\n",
       "    </tr>\n",
       "    <tr>\n",
       "      <th>50%</th>\n",
       "      <td>0.477275</td>\n",
       "      <td>0.508181</td>\n",
       "      <td>0.503477</td>\n",
       "      <td>0.485906</td>\n",
       "      <td>0.482551</td>\n",
       "    </tr>\n",
       "    <tr>\n",
       "      <th>75%</th>\n",
       "      <td>0.758652</td>\n",
       "      <td>0.749596</td>\n",
       "      <td>0.741885</td>\n",
       "      <td>0.742265</td>\n",
       "      <td>0.704174</td>\n",
       "    </tr>\n",
       "    <tr>\n",
       "      <th>max</th>\n",
       "      <td>0.999299</td>\n",
       "      <td>0.996740</td>\n",
       "      <td>0.996984</td>\n",
       "      <td>0.998910</td>\n",
       "      <td>0.999809</td>\n",
       "    </tr>\n",
       "  </tbody>\n",
       "</table>\n",
       "</div>"
      ],
      "text/plain": [
       "                0           1           2           3           4\n",
       "count  334.000000  334.000000  334.000000  334.000000  334.000000\n",
       "mean     0.496570    0.496964    0.495962    0.495849    0.484372\n",
       "std      0.292235    0.290391    0.285128    0.295386    0.279248\n",
       "min      0.003045    0.003295    0.006411    0.000382    0.003107\n",
       "25%      0.240367    0.230747    0.239415    0.244604    0.257107\n",
       "50%      0.477275    0.508181    0.503477    0.485906    0.482551\n",
       "75%      0.758652    0.749596    0.741885    0.742265    0.704174\n",
       "max      0.999299    0.996740    0.996984    0.998910    0.999809"
      ]
     },
     "execution_count": 86,
     "metadata": {},
     "output_type": "execute_result"
    }
   ],
   "source": [
    "newdf.describe()"
   ]
  },
  {
   "cell_type": "code",
   "execution_count": 92,
   "id": "1164a113-e9b1-49c0-8ddf-9f362421f85e",
   "metadata": {},
   "outputs": [
    {
     "data": {
      "text/plain": [
       "0    float64\n",
       "1    float64\n",
       "2    float64\n",
       "3    float64\n",
       "4    float64\n",
       "dtype: object"
      ]
     },
     "execution_count": 92,
     "metadata": {},
     "output_type": "execute_result"
    }
   ],
   "source": [
    "newdf.dtypes"
   ]
  },
  {
   "cell_type": "code",
   "execution_count": 96,
   "id": "576afb0c-39a6-4a5a-9fc4-523ed0952364",
   "metadata": {},
   "outputs": [
    {
     "data": {
      "text/plain": [
       "Index([  0,   1,   2,   3,   4,   5,   6,   7,   8,   9,\n",
       "       ...\n",
       "       324, 325, 326, 327, 328, 329, 330, 331, 332, 333],\n",
       "      dtype='int32', length=334)"
      ]
     },
     "execution_count": 96,
     "metadata": {},
     "output_type": "execute_result"
    }
   ],
   "source": [
    "newdf.index"
   ]
  },
  {
   "cell_type": "code",
   "execution_count": 100,
   "id": "1a271a91-99f6-4a1b-a911-b1ebf1dc19b6",
   "metadata": {},
   "outputs": [
    {
     "data": {
      "text/plain": [
       "RangeIndex(start=0, stop=5, step=1)"
      ]
     },
     "execution_count": 100,
     "metadata": {},
     "output_type": "execute_result"
    }
   ],
   "source": [
    "newdf.columns"
   ]
  },
  {
   "cell_type": "markdown",
   "id": "5428b35b-70e4-4613-ac74-5608b95adb06",
   "metadata": {},
   "source": [
    " # Converting to numpy array"
   ]
  },
  {
   "cell_type": "code",
   "execution_count": 102,
   "id": "71c32de1-f8a9-44e2-9956-9044fa3a861a",
   "metadata": {
    "scrolled": true
   },
   "outputs": [
    {
     "data": {
      "text/plain": [
       "array([[0.25465289, 0.05257164, 0.69134663, 0.00391815, 0.03083261],\n",
       "       [0.35097837, 0.95846265, 0.83422758, 0.68891486, 0.99138031],\n",
       "       [0.73282966, 0.04403895, 0.3812092 , 0.6869718 , 0.15118003],\n",
       "       ...,\n",
       "       [0.2261824 , 0.16110276, 0.66431517, 0.71679092, 0.10073308],\n",
       "       [0.71711863, 0.66735219, 0.16684308, 0.39150506, 0.32800707],\n",
       "       [0.0937957 , 0.62246715, 0.11990957, 0.42994433, 0.84249794]])"
      ]
     },
     "execution_count": 102,
     "metadata": {},
     "output_type": "execute_result"
    }
   ],
   "source": [
    "newdf.to_numpy()"
   ]
  },
  {
   "cell_type": "markdown",
   "id": "8d150da8-b9c5-444d-8984-71642d9ebe2a",
   "metadata": {},
   "source": [
    "# for taking Transpose"
   ]
  },
  {
   "cell_type": "code",
   "execution_count": 104,
   "id": "214afb3d-085a-4aff-b0a4-aae5db67052e",
   "metadata": {},
   "outputs": [
    {
     "data": {
      "text/html": [
       "<div>\n",
       "<style scoped>\n",
       "    .dataframe tbody tr th:only-of-type {\n",
       "        vertical-align: middle;\n",
       "    }\n",
       "\n",
       "    .dataframe tbody tr th {\n",
       "        vertical-align: top;\n",
       "    }\n",
       "\n",
       "    .dataframe thead th {\n",
       "        text-align: right;\n",
       "    }\n",
       "</style>\n",
       "<table border=\"1\" class=\"dataframe\">\n",
       "  <thead>\n",
       "    <tr style=\"text-align: right;\">\n",
       "      <th></th>\n",
       "      <th>0</th>\n",
       "      <th>1</th>\n",
       "      <th>2</th>\n",
       "      <th>3</th>\n",
       "      <th>4</th>\n",
       "      <th>5</th>\n",
       "      <th>6</th>\n",
       "      <th>7</th>\n",
       "      <th>8</th>\n",
       "      <th>9</th>\n",
       "      <th>...</th>\n",
       "      <th>324</th>\n",
       "      <th>325</th>\n",
       "      <th>326</th>\n",
       "      <th>327</th>\n",
       "      <th>328</th>\n",
       "      <th>329</th>\n",
       "      <th>330</th>\n",
       "      <th>331</th>\n",
       "      <th>332</th>\n",
       "      <th>333</th>\n",
       "    </tr>\n",
       "  </thead>\n",
       "  <tbody>\n",
       "    <tr>\n",
       "      <th>0</th>\n",
       "      <td>0.254653</td>\n",
       "      <td>0.350978</td>\n",
       "      <td>0.732830</td>\n",
       "      <td>0.864510</td>\n",
       "      <td>0.516408</td>\n",
       "      <td>0.814061</td>\n",
       "      <td>0.013038</td>\n",
       "      <td>0.716453</td>\n",
       "      <td>0.270968</td>\n",
       "      <td>0.346448</td>\n",
       "      <td>...</td>\n",
       "      <td>0.108172</td>\n",
       "      <td>0.068443</td>\n",
       "      <td>0.306216</td>\n",
       "      <td>0.205068</td>\n",
       "      <td>0.469716</td>\n",
       "      <td>0.855935</td>\n",
       "      <td>0.532952</td>\n",
       "      <td>0.226182</td>\n",
       "      <td>0.717119</td>\n",
       "      <td>0.093796</td>\n",
       "    </tr>\n",
       "    <tr>\n",
       "      <th>1</th>\n",
       "      <td>0.052572</td>\n",
       "      <td>0.958463</td>\n",
       "      <td>0.044039</td>\n",
       "      <td>0.503403</td>\n",
       "      <td>0.352756</td>\n",
       "      <td>0.074653</td>\n",
       "      <td>0.855836</td>\n",
       "      <td>0.752277</td>\n",
       "      <td>0.162737</td>\n",
       "      <td>0.813092</td>\n",
       "      <td>...</td>\n",
       "      <td>0.464919</td>\n",
       "      <td>0.956230</td>\n",
       "      <td>0.137913</td>\n",
       "      <td>0.725112</td>\n",
       "      <td>0.775150</td>\n",
       "      <td>0.675470</td>\n",
       "      <td>0.011508</td>\n",
       "      <td>0.161103</td>\n",
       "      <td>0.667352</td>\n",
       "      <td>0.622467</td>\n",
       "    </tr>\n",
       "    <tr>\n",
       "      <th>2</th>\n",
       "      <td>0.691347</td>\n",
       "      <td>0.834228</td>\n",
       "      <td>0.381209</td>\n",
       "      <td>0.728913</td>\n",
       "      <td>0.462173</td>\n",
       "      <td>0.085156</td>\n",
       "      <td>0.402200</td>\n",
       "      <td>0.257178</td>\n",
       "      <td>0.851246</td>\n",
       "      <td>0.621110</td>\n",
       "      <td>...</td>\n",
       "      <td>0.649541</td>\n",
       "      <td>0.354368</td>\n",
       "      <td>0.555028</td>\n",
       "      <td>0.319205</td>\n",
       "      <td>0.157925</td>\n",
       "      <td>0.509918</td>\n",
       "      <td>0.094862</td>\n",
       "      <td>0.664315</td>\n",
       "      <td>0.166843</td>\n",
       "      <td>0.119910</td>\n",
       "    </tr>\n",
       "    <tr>\n",
       "      <th>3</th>\n",
       "      <td>0.003918</td>\n",
       "      <td>0.688915</td>\n",
       "      <td>0.686972</td>\n",
       "      <td>0.942246</td>\n",
       "      <td>0.922990</td>\n",
       "      <td>0.952173</td>\n",
       "      <td>0.485171</td>\n",
       "      <td>0.243424</td>\n",
       "      <td>0.903888</td>\n",
       "      <td>0.872726</td>\n",
       "      <td>...</td>\n",
       "      <td>0.655207</td>\n",
       "      <td>0.399781</td>\n",
       "      <td>0.935472</td>\n",
       "      <td>0.916055</td>\n",
       "      <td>0.190412</td>\n",
       "      <td>0.799970</td>\n",
       "      <td>0.846448</td>\n",
       "      <td>0.716791</td>\n",
       "      <td>0.391505</td>\n",
       "      <td>0.429944</td>\n",
       "    </tr>\n",
       "    <tr>\n",
       "      <th>4</th>\n",
       "      <td>0.030833</td>\n",
       "      <td>0.991380</td>\n",
       "      <td>0.151180</td>\n",
       "      <td>0.410693</td>\n",
       "      <td>0.758476</td>\n",
       "      <td>0.237268</td>\n",
       "      <td>0.219092</td>\n",
       "      <td>0.310129</td>\n",
       "      <td>0.135598</td>\n",
       "      <td>0.363445</td>\n",
       "      <td>...</td>\n",
       "      <td>0.744476</td>\n",
       "      <td>0.705231</td>\n",
       "      <td>0.730431</td>\n",
       "      <td>0.215325</td>\n",
       "      <td>0.943099</td>\n",
       "      <td>0.588989</td>\n",
       "      <td>0.759361</td>\n",
       "      <td>0.100733</td>\n",
       "      <td>0.328007</td>\n",
       "      <td>0.842498</td>\n",
       "    </tr>\n",
       "  </tbody>\n",
       "</table>\n",
       "<p>5 rows × 334 columns</p>\n",
       "</div>"
      ],
      "text/plain": [
       "        0         1         2         3         4         5         6    \\\n",
       "0  0.254653  0.350978  0.732830  0.864510  0.516408  0.814061  0.013038   \n",
       "1  0.052572  0.958463  0.044039  0.503403  0.352756  0.074653  0.855836   \n",
       "2  0.691347  0.834228  0.381209  0.728913  0.462173  0.085156  0.402200   \n",
       "3  0.003918  0.688915  0.686972  0.942246  0.922990  0.952173  0.485171   \n",
       "4  0.030833  0.991380  0.151180  0.410693  0.758476  0.237268  0.219092   \n",
       "\n",
       "        7         8         9    ...       324       325       326       327  \\\n",
       "0  0.716453  0.270968  0.346448  ...  0.108172  0.068443  0.306216  0.205068   \n",
       "1  0.752277  0.162737  0.813092  ...  0.464919  0.956230  0.137913  0.725112   \n",
       "2  0.257178  0.851246  0.621110  ...  0.649541  0.354368  0.555028  0.319205   \n",
       "3  0.243424  0.903888  0.872726  ...  0.655207  0.399781  0.935472  0.916055   \n",
       "4  0.310129  0.135598  0.363445  ...  0.744476  0.705231  0.730431  0.215325   \n",
       "\n",
       "        328       329       330       331       332       333  \n",
       "0  0.469716  0.855935  0.532952  0.226182  0.717119  0.093796  \n",
       "1  0.775150  0.675470  0.011508  0.161103  0.667352  0.622467  \n",
       "2  0.157925  0.509918  0.094862  0.664315  0.166843  0.119910  \n",
       "3  0.190412  0.799970  0.846448  0.716791  0.391505  0.429944  \n",
       "4  0.943099  0.588989  0.759361  0.100733  0.328007  0.842498  \n",
       "\n",
       "[5 rows x 334 columns]"
      ]
     },
     "execution_count": 104,
     "metadata": {},
     "output_type": "execute_result"
    }
   ],
   "source": [
    "newdf.T "
   ]
  },
  {
   "cell_type": "code",
   "execution_count": null,
   "id": "331229d7-9029-4e22-ac64-05fe5718dc91",
   "metadata": {},
   "outputs": [],
   "source": []
  },
  {
   "cell_type": "code",
   "execution_count": null,
   "id": "919e1a66-93ee-49ef-930a-578240c53487",
   "metadata": {},
   "outputs": [],
   "source": []
  },
  {
   "cell_type": "code",
   "execution_count": null,
   "id": "c18a77e7-5884-4ba6-82e9-ba5dcedbcf2d",
   "metadata": {},
   "outputs": [],
   "source": []
  }
 ],
 "metadata": {
  "kernelspec": {
   "display_name": "Python 3 (ipykernel)",
   "language": "python",
   "name": "python3"
  },
  "language_info": {
   "codemirror_mode": {
    "name": "ipython",
    "version": 3
   },
   "file_extension": ".py",
   "mimetype": "text/x-python",
   "name": "python",
   "nbconvert_exporter": "python",
   "pygments_lexer": "ipython3",
   "version": "3.11.7"
  }
 },
 "nbformat": 4,
 "nbformat_minor": 5
}
